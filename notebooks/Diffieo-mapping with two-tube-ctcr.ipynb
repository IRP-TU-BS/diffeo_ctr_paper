{
 "cells": [
  {
   "cell_type": "markdown",
   "id": "d19cbbc2-855e-4062-8c5e-42b1b8e30945",
   "metadata": {},
   "source": [
    "## General Imports\n",
    "All numerical calculations are done with numpy.\n",
    "Futher functionality for plotting is hidden in utils.py.\n",
    "Finally, to calculate the tube shape, a module library called `pyctr` is used, which was developed by the authors and can be found [here](https://github.com/IRP-TU-BS/pyctr)."
   ]
  },
  {
   "cell_type": "code",
   "id": "e40e4ba3-c901-41b8-b6d3-caa74d2741d6",
   "metadata": {
    "ExecuteTime": {
     "end_time": "2025-04-25T15:08:14.108954Z",
     "start_time": "2025-04-25T15:08:13.933675Z"
    }
   },
   "source": [
    "import numpy as np"
   ],
   "outputs": [],
   "execution_count": 1
  },
  {
   "cell_type": "markdown",
   "id": "aa1e0b73-492e-49b7-8646-6133d8e4a082",
   "metadata": {},
   "source": [
    "## Local Imports"
   ]
  },
  {
   "cell_type": "code",
   "id": "299d7cb3-0f73-4233-a83a-ac9d6c038945",
   "metadata": {
    "ExecuteTime": {
     "end_time": "2025-04-25T15:08:16.576234Z",
     "start_time": "2025-04-25T15:08:14.459735Z"
    }
   },
   "source": [
    "from utils import *"
   ],
   "outputs": [],
   "execution_count": 2
  },
  {
   "cell_type": "markdown",
   "id": "6bb85fec-1601-4ea2-84ac-d9372306e0b1",
   "metadata": {},
   "source": [
    "## CTR Imports"
   ]
  },
  {
   "cell_type": "code",
   "id": "0c33395e-760b-4ae5-b74f-691da66e4b3a",
   "metadata": {
    "ExecuteTime": {
     "end_time": "2025-04-25T15:08:16.583398Z",
     "start_time": "2025-04-25T15:08:16.578887Z"
    }
   },
   "source": [
    "from pyctr.cosserat_rod import *"
   ],
   "outputs": [],
   "execution_count": 3
  },
  {
   "cell_type": "markdown",
   "id": "667cfcfc-fe1f-4cf8-9675-fea78db6f81d",
   "metadata": {},
   "source": [
    "## Build Model Tubes\n",
    "The following cell detemines the curature of the tubes or a 2-tube CTR. Futhermore, the sample density along the tubes body can be defined by the step_size.\n",
    "Finally, the tube parameters are set."
   ]
  },
  {
   "cell_type": "code",
   "id": "0438c56e-7190-4abd-9b7d-4806042fa899",
   "metadata": {
    "ExecuteTime": {
     "end_time": "2025-04-25T15:08:16.593833Z",
     "start_time": "2025-04-25T15:08:16.585569Z"
    }
   },
   "source": [
    "ROD1_CURVATURE = 2.0\n",
    "ROD2_CURVATURE = 11.0\n",
    "\n",
    "STEP_SIZE = 0.001"
   ],
   "outputs": [],
   "execution_count": 4
  },
  {
   "cell_type": "code",
   "id": "d8dd3fd8-c434-4293-b747-c59e83e6a832",
   "metadata": {
    "ExecuteTime": {
     "end_time": "2025-04-25T15:08:19.248248Z",
     "start_time": "2025-04-25T15:08:19.242110Z"
    }
   },
   "source": [
    "ROD1_PARAMS = {\n",
    "    \"kappa\": ROD1_CURVATURE,\n",
    "    \"L\": 150.0 * 1e-3,\n",
    "    \"straight_length\": 0.05,\n",
    "}\n",
    "ROD2_PARAMS = {\n",
    "    \"kappa\": ROD2_CURVATURE,\n",
    "    \"r_inner\": 1.5 * 1e-3,\n",
    "    \"r_outer\": 2.5 * 1e-3,\n",
    "    \"L\": 120.0 * 1e-3,\n",
    "    \"straight_length\": 80.0 * 1e-3,\n",
    "}"
   ],
   "outputs": [],
   "execution_count": 5
  },
  {
   "cell_type": "markdown",
   "id": "57c7231a-05f0-46fa-bf74-7e19f0186629",
   "metadata": {},
   "source": [
    "### Create tubes \n",
    "The following section is creatig the tube and CTR objects eeded for calulating the robots shape."
   ]
  },
  {
   "cell_type": "markdown",
   "id": "ae952c56-0980-46a9-8f4e-801fb67bb508",
   "metadata": {},
   "source": [
    "#### Curved tubes\n",
    "First a set of curved tubes is created and with those tubes, a CTR is generated."
   ]
  },
  {
   "cell_type": "code",
   "id": "bf94d5ad-3c03-4c17-b17a-b25cf6acb1a6",
   "metadata": {
    "ExecuteTime": {
     "end_time": "2025-04-25T15:08:23.877055Z",
     "start_time": "2025-04-25T15:08:23.871326Z"
    }
   },
   "source": [
    "curved_rod1 = create_rod(ROD1_PARAMS)\n",
    "curved_rod2 = create_rod(ROD2_PARAMS)"
   ],
   "outputs": [],
   "execution_count": 6
  },
  {
   "cell_type": "code",
   "id": "ea8c82e0-14d1-41aa-a000-6dd1303b984c",
   "metadata": {
    "ExecuteTime": {
     "end_time": "2025-04-25T15:08:26.387155Z",
     "start_time": "2025-04-25T15:08:26.381854Z"
    }
   },
   "source": [
    "# Please be not confused. The wrapper is used to decorate the tubes with additional functionality such as push_end, which enables the application of a force to the tip of the tubes.\n",
    "curved_rod1_ctr = create_ctr_wrapper([curved_rod1])\n",
    "curved_rod2_ctr = create_ctr_wrapper([curved_rod2])"
   ],
   "outputs": [],
   "execution_count": 7
  },
  {
   "cell_type": "code",
   "id": "d090ac5d-23c2-4eed-b3e5-5d9280508574",
   "metadata": {
    "ExecuteTime": {
     "end_time": "2025-04-25T15:08:27.238473Z",
     "start_time": "2025-04-25T15:08:27.232513Z"
    }
   },
   "source": [
    "ctr = create_ctr_wrapper([curved_rod1, curved_rod2])"
   ],
   "outputs": [],
   "execution_count": 8
  },
  {
   "cell_type": "markdown",
   "id": "e4ab6f7f-4a76-4748-8aca-fc09877ac1b8",
   "metadata": {},
   "source": [
    "#### Straight\n",
    "Additionally, straight tubes with the same properties are created."
   ]
  },
  {
   "cell_type": "code",
   "id": "6621dd8b-14e1-4ff0-9b2d-ec494775c96a",
   "metadata": {
    "ExecuteTime": {
     "end_time": "2025-04-25T15:08:28.572974Z",
     "start_time": "2025-04-25T15:08:28.568524Z"
    }
   },
   "source": [
    "ROD1_PARAMS[\"kappa\"] = 0\n",
    "ROD2_PARAMS[\"kappa\"] = 0"
   ],
   "outputs": [],
   "execution_count": 9
  },
  {
   "cell_type": "code",
   "id": "c6ea6f83-072d-4064-b98b-fae1d711bf0f",
   "metadata": {
    "ExecuteTime": {
     "end_time": "2025-04-25T15:08:29.859477Z",
     "start_time": "2025-04-25T15:08:29.853769Z"
    }
   },
   "source": [
    "straight_rod1 = create_rod(ROD1_PARAMS)\n",
    "straight_rod2 = create_rod(ROD2_PARAMS)"
   ],
   "outputs": [],
   "execution_count": 10
  },
  {
   "cell_type": "code",
   "id": "1a5fdcef-ccb0-45ec-afa0-65bb4fb9b3a1",
   "metadata": {
    "ExecuteTime": {
     "end_time": "2025-04-25T15:08:30.453520Z",
     "start_time": "2025-04-25T15:08:30.448716Z"
    }
   },
   "source": [
    "straight_rod1_ctr = create_ctr_wrapper([straight_rod1])\n",
    "straight_rod2_ctr = create_ctr_wrapper([straight_rod2])"
   ],
   "outputs": [],
   "execution_count": 11
  },
  {
   "cell_type": "code",
   "id": "7bd5d6e8-45f2-4ad7-9f57-178f9f1cd6d1",
   "metadata": {
    "ExecuteTime": {
     "end_time": "2025-04-25T15:08:31.397856Z",
     "start_time": "2025-04-25T15:08:31.393288Z"
    }
   },
   "source": [
    "straight_ctr = create_ctr_wrapper([straight_rod1, straight_rod2])"
   ],
   "outputs": [],
   "execution_count": 12
  },
  {
   "cell_type": "markdown",
   "id": "70c85013-2af7-43b1-9a5f-302d45fe6d9b",
   "metadata": {},
   "source": [
    "### Create instances geometry of the robots\n",
    "For plotting the shape of the tubes, we calculate the tubes shape when no force is applied to there tips."
   ]
  },
  {
   "cell_type": "code",
   "id": "cffe96df-5359-4566-919a-1224ed73eb4f",
   "metadata": {
    "ExecuteTime": {
     "end_time": "2025-04-25T15:08:34.159003Z",
     "start_time": "2025-04-25T15:08:34.146625Z"
    }
   },
   "source": [
    "from ctr_diffeomorphism import create_extended_copy_of_tube"
   ],
   "outputs": [],
   "execution_count": 13
  },
  {
   "cell_type": "code",
   "id": "b2946da2-0316-4b45-8ac8-b761b47e56d9",
   "metadata": {
    "ExecuteTime": {
     "end_time": "2025-04-25T15:08:35.183726Z",
     "start_time": "2025-04-25T15:08:34.752386Z"
    }
   },
   "source": [
    "crod1_pos, crod1_ori = curved_rod1_ctr.push_end(np.zeros(6), STEP_SIZE)[0:2]\n",
    "crod2_pos, crod2_ori = curved_rod2_ctr.push_end(np.zeros(6), STEP_SIZE)[0:2]"
   ],
   "outputs": [],
   "execution_count": 14
  },
  {
   "cell_type": "code",
   "id": "a75cddfd-6e2e-4775-84b8-2798454dcb88",
   "metadata": {
    "ExecuteTime": {
     "end_time": "2025-04-25T15:08:35.665273Z",
     "start_time": "2025-04-25T15:08:35.487426Z"
    }
   },
   "source": [
    "srod1_pos = straight_rod1_ctr.push_end(np.zeros(6), STEP_SIZE)[0]\n",
    "srod2_pos = straight_rod2_ctr.push_end(np.zeros(6), STEP_SIZE)[0]"
   ],
   "outputs": [],
   "execution_count": 15
  },
  {
   "metadata": {},
   "cell_type": "markdown",
   "source": "We use a special function to extend the second tube, which is smaller than the first, by a straight section at its end until the extend tube has the same length as the first one. ",
   "id": "40afbca58838995d"
  },
  {
   "metadata": {
    "ExecuteTime": {
     "end_time": "2025-04-25T15:08:36.531535Z",
     "start_time": "2025-04-25T15:08:36.526638Z"
    }
   },
   "cell_type": "code",
   "source": "crod2_ext_pos = create_extended_copy_of_tube(crod2_pos, crod2_ori, crod1_pos.shape[0], STEP_SIZE)",
   "id": "c0a41c4524657dca",
   "outputs": [],
   "execution_count": 16
  },
  {
   "metadata": {},
   "cell_type": "markdown",
   "source": [
    "### Find the diffeomorphism\n",
    "For both tubes we find the paramters for a diffeomorphic mapping between straight and curved tube intances."
   ],
   "id": "228f2ae7ae9efcfe"
  },
  {
   "cell_type": "code",
   "id": "3aaebd65-3d7c-4179-a337-f70f60b91f52",
   "metadata": {
    "ExecuteTime": {
     "end_time": "2025-04-25T15:08:38.167809Z",
     "start_time": "2025-04-25T15:08:38.163264Z"
    }
   },
   "source": "from ctr_diffeomorphism import *",
   "outputs": [],
   "execution_count": 17
  },
  {
   "cell_type": "code",
   "id": "cb54896c-b567-4247-9345-74826fa73b61",
   "metadata": {
    "ExecuteTime": {
     "end_time": "2025-04-25T15:08:39.191901Z",
     "start_time": "2025-04-25T15:08:39.003163Z"
    }
   },
   "source": [
    "# First diifeo step\n",
    "p1, c1, v1 = find_diffeo_map(srod1_pos, crod1_pos, K=25, beta=0.4)\n",
    "p1 = p1.reshape(-1, 1)\n",
    "c1 = np.array(c1).reshape(-1, 1)"
   ],
   "outputs": [],
   "execution_count": 18
  },
  {
   "cell_type": "code",
   "id": "1caaddc7-9894-4f8a-9857-f856bcbc2b7d",
   "metadata": {
    "ExecuteTime": {
     "end_time": "2025-04-25T15:08:39.836489Z",
     "start_time": "2025-04-25T15:08:39.693002Z"
    }
   },
   "source": [
    "# Second diffeo step\n",
    "p2, c2, v2 = find_diffeo_map(srod2_pos, crod2_pos, K=25, beta=0.4)\n",
    "p2 = p2.reshape(-1, 1)\n",
    "c2 = np.array(c2).reshape(-1, 1)"
   ],
   "outputs": [],
   "execution_count": 19
  },
  {
   "cell_type": "markdown",
   "id": "bbf2c88b-27d0-40c1-9f02-1efb482d2963",
   "metadata": {},
   "source": "Additionally, we get the tubes material properties."
  },
  {
   "cell_type": "code",
   "id": "f9629e25-9bb5-4bc3-9ee6-c2b4734f7afc",
   "metadata": {
    "ExecuteTime": {
     "end_time": "2025-04-25T15:08:40.805201Z",
     "start_time": "2025-04-25T15:08:40.799301Z"
    }
   },
   "source": [
    "E1 = curved_rod1.params[\"E\"]\n",
    "I1 = curved_rod1.params[\"I\"]\n",
    "EI1 = E1*I1 \n",
    "L1 = curved_rod1.params[\"L\"]\n",
    "E2 = curved_rod2.params[\"E\"]\n",
    "I2 = curved_rod2.params[\"I\"]\n",
    "EI2 = E2*I2\n",
    "L2 = curved_rod2.params[\"L\"]"
   ],
   "outputs": [],
   "execution_count": 20
  },
  {
   "metadata": {},
   "cell_type": "markdown",
   "source": "## Diffeomorphism for whole robot",
   "id": "258b952806611aa"
  },
  {
   "cell_type": "code",
   "id": "63e93dbed4e19a41",
   "metadata": {
    "ExecuteTime": {
     "end_time": "2025-04-25T15:08:42.227633Z",
     "start_time": "2025-04-25T15:08:41.937671Z"
    }
   },
   "source": [
    "p2, c2, v2 = find_diffeo_map(srod1_pos, crod2_ext_pos, K=25, beta=0.4)\n",
    "p2 = p2.reshape(-1, 1)\n",
    "c2 = np.array(c2).reshape(-1, 1)"
   ],
   "outputs": [],
   "execution_count": 21
  },
  {
   "metadata": {
    "ExecuteTime": {
     "end_time": "2025-04-25T15:08:42.871038Z",
     "start_time": "2025-04-25T15:08:42.690645Z"
    }
   },
   "cell_type": "code",
   "source": [
    "straight_ctr.rotate([0,0])\n",
    "straight_ctr.translate([0,0])\n",
    "\n",
    "sctr_pos = straight_ctr.push_end(np.zeros(6),STEP_SIZE)[0]"
   ],
   "id": "a8072b71833753fe",
   "outputs": [],
   "execution_count": 22
  },
  {
   "metadata": {
    "ExecuteTime": {
     "end_time": "2025-04-25T15:08:44.000686Z",
     "start_time": "2025-04-25T15:08:43.365405Z"
    }
   },
   "cell_type": "code",
   "source": [
    "ctr.rotate([0, 0])\n",
    "ctr.translate([0,0])\n",
    "straight_ctr.rotate([0,0])\n",
    "straight_ctr.translate([0,0])\n",
    "\n",
    "alphas = [0,0]\n",
    "betas = [0.0,0.]\n",
    "ctr.rotate(alphas)\n",
    "ctr.translate(betas)\n",
    "straight_ctr.rotate(alphas)\n",
    "straight_ctr.translate(betas)\n",
    "sctr_pos = straight_ctr.push_end(np.zeros(6), STEP_SIZE)[0]\n",
    "cctr_pos = ctr.push_end(np.zeros(6), STEP_SIZE)[0]"
   ],
   "id": "480cb43b4d38087",
   "outputs": [],
   "execution_count": 23
  },
  {
   "metadata": {
    "ExecuteTime": {
     "end_time": "2025-04-25T15:08:46.765949Z",
     "start_time": "2025-04-25T15:08:44.944178Z"
    }
   },
   "cell_type": "code",
   "source": [
    "indices, ds = get_plot_len_and_size(\n",
    "    straight_ctr,\n",
    "    sctr_pos.shape[0],\n",
    "     betas\n",
    ")\n",
    "curved_indices, curved_ds = get_plot_len_and_size(\n",
    "    ctr,\n",
    "    cctr_pos.shape[0],\n",
    "    betas\n",
    ")\n",
    "\n",
    "plotter = pv.Plotter()\n",
    "\n",
    "plotter = simple_plot_tubes_pyvista(plotter, sctr_pos, indices, ds, \"straight tubes\", 0.5)\n",
    "plotter = simple_plot_tubes_pyvista(plotter, cctr_pos, curved_indices, curved_ds, \"curved_tubes\", 1)\n",
    "#plotter.add_points(cctr_pos, color='red', point_size=20, render_points_as_spheres=True)\n",
    "\n",
    "# Set the camera position\n",
    "plotter.camera_position = \"iso\"  # Isometric view\n",
    "\n",
    "# Display the plot\n",
    "plotter.show()"
   ],
   "id": "d3014753b8d199b4",
   "outputs": [
    {
     "data": {
      "text/plain": [
       "Widget(value='<iframe src=\"http://localhost:41315/index.html?ui=P_0x70dc07e52f00_0&reconnect=auto\" class=\"pyvi…"
      ],
      "application/vnd.jupyter.widget-view+json": {
       "version_major": 2,
       "version_minor": 0,
       "model_id": "f5cfab7a3fea4a42a7aa918664933150"
      }
     },
     "metadata": {},
     "output_type": "display_data"
    }
   ],
   "execution_count": 24
  },
  {
   "metadata": {
    "ExecuteTime": {
     "end_time": "2025-04-25T15:08:58.463742Z",
     "start_time": "2025-04-25T15:08:58.439196Z"
    }
   },
   "cell_type": "code",
   "source": "diffeo_cpos = do_forward_diffeo(sctr_pos, alphas, betas, np.hstack([p1,p2]),  np.hstack([c1,c2]),  np.hstack([v1,v2]), [EI1, EI2], [L1, L2])",
   "id": "f7e325e0cc557baf",
   "outputs": [],
   "execution_count": 25
  },
  {
   "metadata": {
    "ExecuteTime": {
     "end_time": "2025-04-25T15:08:59.499229Z",
     "start_time": "2025-04-25T15:08:58.725431Z"
    }
   },
   "cell_type": "code",
   "source": [
    "indices, ds = get_plot_len_and_size(\n",
    "    ctr,\n",
    "    sctr_pos.shape[0],\n",
    "    betas\n",
    ")\n",
    "\n",
    "diffeo_indices, diffeo_ds = get_plot_len_and_size(\n",
    "    ctr,\n",
    "    diffeo_cpos.shape[0],\n",
    "    betas\n",
    ")\n",
    "\n",
    "curved_indices, curved_ds = get_plot_len_and_size(\n",
    "    ctr,\n",
    "    cctr_pos.shape[0],\n",
    "    betas\n",
    ")\n",
    "\n",
    "\n",
    "plotter = pv.Plotter()\n",
    "#plotter = simple_plot_tubes_pyvista(plotter, sctr_pos, indices, ds, \"straight tubes\", 0.5)\n",
    "\n",
    "#plotter = simple_plot_tubes_pyvista(plotter, diffeo_cpos, diffeo_indices, diffeo_ds, \"diffeo tubes\", 0.5)\n",
    "#plotter.add_points(cctr_pos, color='blue', point_size=5, render_points_as_spheres=True)\n",
    "\n",
    "plotter.add_points(diffeo_cpos, color='red', point_size=15, render_points_as_spheres=True)\n",
    "plotter = simple_plot_tubes_pyvista(plotter, cctr_pos, curved_indices, curved_ds, \"curved_tubes\", 1)\n",
    "\n",
    "# Set the camera position\n",
    "plotter.camera_position = \"iso\"  # Isometric view\n",
    "_ = plotter.add_mesh(pv.Sphere(center=(2, 0, 0)), color='r')\n",
    "_ = plotter.add_mesh(pv.Sphere(center=(0, 2, 0)), color='g')\n",
    "_ = plotter.add_mesh(pv.Sphere(center=(0, 0, 2)), color='b')\n",
    "_ = plotter.add_axes_at_origin()\n",
    "# Display the plot\n",
    "plotter.show()"
   ],
   "id": "6e71e772238636cf",
   "outputs": [
    {
     "data": {
      "text/plain": [
       "Widget(value='<iframe src=\"http://localhost:41315/index.html?ui=P_0x70dbfccdb320_1&reconnect=auto\" class=\"pyvi…"
      ],
      "application/vnd.jupyter.widget-view+json": {
       "version_major": 2,
       "version_minor": 0,
       "model_id": "2e37736900ff45819ca4c1922c1d8a1f"
      }
     },
     "metadata": {},
     "output_type": "display_data"
    }
   ],
   "execution_count": 26
  },
  {
   "metadata": {
    "ExecuteTime": {
     "end_time": "2025-04-25T15:09:10.262273Z",
     "start_time": "2025-04-25T15:09:10.238567Z"
    }
   },
   "cell_type": "code",
   "source": "diffeo_cpos = do_inverse_diffeo(cctr_pos, alphas, betas, np.hstack([p1,p2]),  np.hstack([c1,c2]),  np.hstack([v1,v2]), [EI1, EI2], [L1, L2])\n",
   "id": "20f7fdb2cccfbb47",
   "outputs": [],
   "execution_count": 27
  },
  {
   "metadata": {
    "ExecuteTime": {
     "end_time": "2025-04-25T15:09:11.601085Z",
     "start_time": "2025-04-25T15:09:10.486809Z"
    }
   },
   "cell_type": "code",
   "source": [
    "indices, ds = get_plot_len_and_size(\n",
    "    ctr,\n",
    "    sctr_pos.shape[0],\n",
    "    betas\n",
    ")\n",
    "\n",
    "diffeo_indices, diffeo_ds = get_plot_len_and_size(\n",
    "    ctr,\n",
    "    diffeo_cpos.shape[0],\n",
    "    betas\n",
    ")\n",
    "\n",
    "curved_indices, curved_ds = get_plot_len_and_size(\n",
    "    ctr,\n",
    "    cctr_pos.shape[0],\n",
    "    betas\n",
    ")\n",
    "\n",
    "\n",
    "plotter = pv.Plotter()\n",
    "plotter = simple_plot_tubes_pyvista(plotter, sctr_pos, indices, ds, \"straight tubes\", 0.5)\n",
    "plotter = simple_plot_tubes_pyvista(plotter, cctr_pos, indices, ds, \"curved tubes\", 0.5)\n",
    "\n",
    "#plotter = simple_plot_tubes_pyvista(plotter, diffeo_cpos, diffeo_indices, diffeo_ds, \"diffeo tubes\", 0.5)\n",
    "#plotter = simple_plot_tubes_pyvista(plotter, cctr_pos, curved_indices, curved_ds, \"curved_tubes\", 1)\n",
    "#plotter.add_points(cctr_pos, color='blue', point_size=20, render_points_as_spheres=True)\n",
    "\n",
    "plotter.add_points(diffeo_cpos, color='red', point_size=15, render_points_as_spheres=True)\n",
    "\n",
    "# Set the camera position\n",
    "plotter.camera_position = \"iso\"  # Isometric view\n",
    "_ = plotter.add_mesh(pv.Sphere(center=(2, 0, 0)), color='r')\n",
    "_ = plotter.add_mesh(pv.Sphere(center=(0, 2, 0)), color='g')\n",
    "_ = plotter.add_mesh(pv.Sphere(center=(0, 0, 2)), color='b')\n",
    "_ = plotter.add_axes_at_origin()\n",
    "# Display the plot\n",
    "plotter.show()"
   ],
   "id": "469f75402f90142d",
   "outputs": [
    {
     "data": {
      "text/plain": [
       "Widget(value='<iframe src=\"http://localhost:41315/index.html?ui=P_0x70dbfcd47980_2&reconnect=auto\" class=\"pyvi…"
      ],
      "application/vnd.jupyter.widget-view+json": {
       "version_major": 2,
       "version_minor": 0,
       "model_id": "e6113aa406904d438dff53c58f7f776e"
      }
     },
     "metadata": {},
     "output_type": "display_data"
    }
   ],
   "execution_count": 28
  },
  {
   "metadata": {},
   "cell_type": "code",
   "outputs": [],
   "execution_count": null,
   "source": "",
   "id": "e0b5ff6ff758e56c"
  }
 ],
 "metadata": {
  "kernelspec": {
   "display_name": "Python 3 (ipykernel)",
   "language": "python",
   "name": "python3"
  },
  "language_info": {
   "codemirror_mode": {
    "name": "ipython",
    "version": 3
   },
   "file_extension": ".py",
   "mimetype": "text/x-python",
   "name": "python",
   "nbconvert_exporter": "python",
   "pygments_lexer": "ipython3",
   "version": "3.12.9"
  }
 },
 "nbformat": 4,
 "nbformat_minor": 5
}
